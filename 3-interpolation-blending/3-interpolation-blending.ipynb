{
 "cells": [
  {
   "cell_type": "markdown",
   "metadata": {},
   "source": [
    "## **Introduction to Image Processing**\n",
    "\n",
    "Mojdeh Rastgoo - Desire Sidibe"
   ]
  },
  {
   "cell_type": "markdown",
   "metadata": {},
   "source": [
    "## 3. Interpolation and Blending"
   ]
  },
  {
   "cell_type": "markdown",
   "metadata": {},
   "source": [
    " Importing necessary libraries/modules and functions"
   ]
  },
  {
   "cell_type": "code",
   "execution_count": 10,
   "metadata": {},
   "outputs": [
    {
     "ename": "SyntaxError",
     "evalue": "invalid syntax (<ipython-input-10-bbff8a4ed415>, line 34)",
     "output_type": "error",
     "traceback": [
      "\u001b[1;36m  File \u001b[1;32m\"<ipython-input-10-bbff8a4ed415>\"\u001b[1;36m, line \u001b[1;32m34\u001b[0m\n\u001b[1;33m    om PIL import Image\u001b[0m\n\u001b[1;37m         ^\u001b[0m\n\u001b[1;31mSyntaxError\u001b[0m\u001b[1;31m:\u001b[0m invalid syntax\n"
     ]
    }
   ],
   "source": [
    "% matplotlib inline\n",
    "% pprint off\n",
    "\n",
    "\n",
    "# Import the library as show images, plot, etc.\n",
    "import matplotlib.pyplot as plt\n",
    "# Import functionality for the color map\n",
    "import matplotlib.cm as cm\n",
    "\n",
    "# Import system specific parameters and function\n",
    "import sys \n",
    "\n",
    "## Other plotting libraries\n",
    "# import seaborn as sns\n",
    "\n",
    "# Import the library to mange the matrix and array \n",
    "import numpy as np\n",
    "\n",
    "# Importing image processing toolbox \n",
    "## Module to read, write,... \n",
    "from skimage import io\n",
    "## Module to convert the image on 8 bits\n",
    "from skimage import img_as_ubyte\n",
    "## Module to convert the image to float\n",
    "from skimage import img_as_float\n",
    "## Module for color conversion \n",
    "from skimage import color\n",
    "## Module image transform from skimage for resize \n",
    "from skimage import transform\n",
    "## Module misc from scipy for resize \n",
    "from scipy import misc\n",
    "## Module util from skimage \n",
    "fr\n",
    "om PIL import Image\n"
   ]
  },
  {
   "cell_type": "markdown",
   "metadata": {},
   "source": [
    "### 3.1  Resizing an image size using different interpolation functions"
   ]
  },
  {
   "cell_type": "markdown",
   "metadata": {},
   "source": [
    "** Q.1 Resize the `lena` or `vibot` image using nearest, bilinear and bicubic function.** \n",
    "\n",
    "You can define your function which accept the model and resize size from the user or just run a script."
   ]
  },
  {
   "cell_type": "code",
   "execution_count": 11,
   "metadata": {
    "collapsed": true
   },
   "outputs": [],
   "source": [
    "def ImResize (im, method='nearest', size= 0.5):\n",
    "    print ('The resize method is {}'.format(method))\n",
    "    im_resize = misc.imresize(im, size, interp = method)\n",
    "    return im_resize"
   ]
  },
  {
   "cell_type": "code",

   "execution_count": 12,
   "metadata": {},
   "outputs": [
    {
     "ename": "NameError",
     "evalue": "name 'io' is not defined",
     "output_type": "error",
     "traceback": [
      "\u001b[1;31m---------------------------------------------------------------------------\u001b[0m",
      "\u001b[1;31mNameError\u001b[0m                                 Traceback (most recent call last)",
      "\u001b[1;32m<ipython-input-12-bb6096a513fd>\u001b[0m in \u001b[0;36m<module>\u001b[1;34m()\u001b[0m\n\u001b[0;32m      1\u001b[0m \u001b[0mPath\u001b[0m \u001b[1;33m=\u001b[0m \u001b[1;34m'./images/'\u001b[0m\u001b[1;33m\u001b[0m\u001b[0m\n\u001b[0;32m      2\u001b[0m \u001b[0mimage_name\u001b[0m \u001b[1;33m=\u001b[0m \u001b[1;34m'lena-grey.bmp'\u001b[0m\u001b[1;33m\u001b[0m\u001b[0m\n\u001b[1;32m----> 3\u001b[1;33m \u001b[0mlena_im\u001b[0m \u001b[1;33m=\u001b[0m \u001b[0mio\u001b[0m\u001b[1;33m.\u001b[0m\u001b[0mimread\u001b[0m\u001b[1;33m(\u001b[0m\u001b[0mPath\u001b[0m\u001b[1;33m.\u001b[0m\u001b[0m__add__\u001b[0m\u001b[1;33m(\u001b[0m\u001b[0mimage_name\u001b[0m\u001b[1;33m)\u001b[0m\u001b[1;33m)\u001b[0m\u001b[1;33m\u001b[0m\u001b[0m\n\u001b[0m\u001b[0;32m      4\u001b[0m \u001b[0mlena_im\u001b[0m \u001b[1;33m=\u001b[0m \u001b[0mimg_as_float\u001b[0m\u001b[1;33m(\u001b[0m\u001b[0mlena_im\u001b[0m\u001b[1;33m)\u001b[0m\u001b[1;33m\u001b[0m\u001b[0m\n\u001b[0;32m      5\u001b[0m \u001b[0mmethods\u001b[0m \u001b[1;33m=\u001b[0m \u001b[1;33m[\u001b[0m\u001b[1;34m'nearest'\u001b[0m\u001b[1;33m,\u001b[0m \u001b[1;34m'bilinear'\u001b[0m\u001b[1;33m,\u001b[0m \u001b[1;34m'bicubic'\u001b[0m\u001b[1;33m]\u001b[0m\u001b[1;33m\u001b[0m\u001b[0m\n",
      "\u001b[1;31mNameError\u001b[0m: name 'io' is not defined"
     ]
    }
   ],
   "source": [
    "Path = './images/'\n",
    "image_name = 'lena-grey.bmp'\n",
    "lena_im = io.imread(Path.__add__(image_name))\n",
    "lena_im = img_as_float(lena_im)\n",
    "methods = ['nearest', 'bilinear', 'bicubic']\n",
    "for m in methods:\n",
    "    im_resize = ImResize(lena_im,m, 0.5)\n",
    "    plt.figure\n",
    "    plt.imshow(im_resize, cmap=plt.cm.gray)\n",
    "    plt.show()"
   ]
  },
  {
   "cell_type": "markdown",
   "metadata": {},
   "source": [
    "**Q.2 Write three functions that performs `simple_blend`, `alpha_blend` and `pyramid_blend`**\n",
    "\n",
    "** Using your functions, blend `orange` and `apple` images together.**\n"
   ]
  },
  {
   "cell_type": "code",

   "execution_count": 13,
   "metadata": {},
   "outputs": [
    {
     "ename": "NameError",
     "evalue": "name 'io' is not defined",
     "output_type": "error",
     "traceback": [
      "\u001b[1;31m---------------------------------------------------------------------------\u001b[0m",
      "\u001b[1;31mNameError\u001b[0m                                 Traceback (most recent call last)",
      "\u001b[1;32m<ipython-input-13-15c35c65f48d>\u001b[0m in \u001b[0;36m<module>\u001b[1;34m()\u001b[0m\n\u001b[1;32m----> 1\u001b[1;33m \u001b[0mvibot_im\u001b[0m \u001b[1;33m=\u001b[0m \u001b[0mio\u001b[0m\u001b[1;33m.\u001b[0m\u001b[0mimread\u001b[0m\u001b[1;33m(\u001b[0m\u001b[0mPath\u001b[0m\u001b[1;33m.\u001b[0m\u001b[0m__add__\u001b[0m\u001b[1;33m(\u001b[0m\u001b[1;34m'vibot-color.jpg'\u001b[0m\u001b[1;33m)\u001b[0m\u001b[1;33m)\u001b[0m\u001b[1;33m\u001b[0m\u001b[0m\n\u001b[0m\u001b[0;32m      2\u001b[0m \u001b[0mim_size\u001b[0m \u001b[1;33m=\u001b[0m \u001b[0mnp\u001b[0m\u001b[1;33m.\u001b[0m\u001b[0mshape\u001b[0m\u001b[1;33m(\u001b[0m\u001b[0mvibot_im\u001b[0m\u001b[1;33m)\u001b[0m\u001b[1;33m\u001b[0m\u001b[0m\n\u001b[0;32m      3\u001b[0m \u001b[1;32mif\u001b[0m\u001b[1;33m(\u001b[0m\u001b[0mlen\u001b[0m\u001b[1;33m(\u001b[0m\u001b[0mim_size\u001b[0m\u001b[1;33m)\u001b[0m\u001b[1;33m<\u001b[0m\u001b[1;36m3\u001b[0m\u001b[1;33m)\u001b[0m\u001b[1;33m:\u001b[0m\u001b[1;33m\u001b[0m\u001b[0m\n\u001b[0;32m      4\u001b[0m       \u001b[0mprint\u001b[0m \u001b[1;33m(\u001b[0m\u001b[1;34m'gray'\u001b[0m\u001b[1;33m)\u001b[0m\u001b[1;33m\u001b[0m\u001b[0m\n\u001b[0;32m      5\u001b[0m \u001b[1;32melif\u001b[0m \u001b[0mlen\u001b[0m\u001b[1;33m(\u001b[0m\u001b[0mim_size\u001b[0m\u001b[1;33m)\u001b[0m\u001b[1;33m==\u001b[0m\u001b[1;36m3\u001b[0m\u001b[1;33m:\u001b[0m\u001b[1;33m\u001b[0m\u001b[0m\n",
      "\u001b[1;31mNameError\u001b[0m: name 'io' is not defined"
     ]
    }
   ],
   "source": [
    "vibot_im = io.imread(Path.__add__('vibot-color.jpg'))\n",
    "im_size = np.shape(vibot_im)\n",
    "if(len(im_size)<3):\n",
    "      print ('gray')\n",
    "elif len(im_size)==3:\n",
    "      print ('Color(RGB)')"
   ]
  },
  {
   "cell_type": "code",
   "execution_count": 14,
   "metadata": {
    "collapsed": true
   },
   "outputs": [],
   "source": [
    "def IsGrey(im):\n",
    "    if len(im.shape)<3:\n",
    "        print ('Image is in grey')\n",
    "        check = True\n",
    "    elif len(im.shape)==3:\n",
    "        print ('Image is in color')\n",
    "        check = False\n",
    "    return check"
   ]
  },
  {
   "cell_type": "code",
   "execution_count": 15,
   "metadata": {
    "collapsed": true
   },
   "outputs": [],
   "source": [
    "def Laplacian_pyramid(pyramid):\n",
    "    Lpyramid= []\n",
    "    for i in range (0, len(pyramid)):\n",
    "        if i != len(pyramid)-1:\n",
    "            upscalePyramid = transform.rescale(pyramid[i+1], 2, mode='constant')\n",
    "            if upscalePyramid.shape == pyramid[i].shape:\n",
    "                L = pyramid[i] - upscalePyramid\n",
    "                Lpyramid.append(L)\n",
    "                #print 'The original image and the upscale one has the size {}'.format(upscalePyramid.shape)\n",
    "            else:\n",
    "                upscalePyramid = upscalePyramid[:pyramid[i].shape[0], :pyramid[i].shape[1]]\n",
    "                L = pyramid[i] - upscalePyramid\n",
    "                Lpyramid.append(L)\n",
    "                #print 'The upscale image is cropped to be the same size as the original image {}'.format(upscalePyramid.shape)\n",
    "        else:\n",
    "            L = pyramid[i]\n",
    "            Lpyramid.append(L)\n",
    "    return Lpyramid"
   ]
  },
  {
   "cell_type": "code",
   "execution_count": 16,
   "metadata": {
    "collapsed": true
   },
   "outputs": [],
   "source": [
    "def colapse_pyramid(pyramid):\n",
    "    Layer = len(pyramid)-1\n",
    "    L = pyramid[Layer]\n",
    "    while Layer != 0:      \n",
    "        upscalePyramid = transform.rescale(L,2) \n",
    "        if upscalePyramid.shape == pyramid[Layer-1].shape:\n",
    "            L = upscalePyramid + pyramid[Layer-1]\n",
    "            Layer = Layer -1\n",
    "        else:\n",
    "            L = upscalePyramid[:pyramid[Layer-1].shape[0], :pyramid[Layer-1].shape[1]] + pyramid[Layer-1]\n",
    "            Layer = Layer -1\n",
    "    colapse_image = L         \n",
    "    return colapse_image"
   ]
  },
  {
   "cell_type": "code",
   "execution_count": 17,
   "metadata": {
    "collapsed": true
   },
   "outputs": [],
   "source": [
    "def ImBlend(im1,im2, method='simple', win=10):\n",
    "    im1 = img_as_float(im1)\n",
    "    im2 = img_as_float(im2)\n",
    "    if IsGrey(im1)== False:\n",
    "        im1 = color.rgb2gray(im1)\n",
    "    if IsGrey(im2)== False:\n",
    "        im2 = color.rgb2gray(im2)\n",
    "    \n",
    "    if np.shape(im1) != np.shape(im2):\n",
    "        raise ValueError('Images are not the same size.')\n",
    "    else:\n",
    "        row, col = np.shape(im1)\n",
    "        blend_im = np.zeros((row,col))\n",
    "    \n",
    "        if method == 'simple':\n",
    "            blend_im[:, :int(col/2)] = im1[:, :int(col/2)]\n",
    "            blend_im[:, int(col/2):] = im2[:, int(col/2):]\n",
    "\n",
    "        elif method == 'alpha':\n",
    "            blend_im[:, :int(col/2)-win] = im1[:, :int(col/2)-win]\n",
    "            blend_im[:, int(col/2)+win:] = im2[:, int(col/2)+win:]\n",
    "\n",
    "            x1 = int(col/2)-win\n",
    "            x2 = int(col/2)+win\n",
    "            x  = np.arange(x1, x2)\n",
    "            alpha = x/(x1-x2) -x2/(x1-x2); \n",
    "            #alpha = repmat(a , size(I3,1), 1);\n",
    "            blend_im[:, x1:x2] = alpha* im1[:, x1:x2] + (1- alpha)* im2[:, x1:x2]\n",
    "\n",
    "        elif method == 'pyramid':\n",
    "            ## Create a region mask \n",
    "            mask = np.zeros(im1.shape)\n",
    "            mask[:,:int(col/2)] = 1.0\n",
    "            mask[:, int(col/2):] = 0.0\n",
    "            \n",
    "            ## Gaussian pyramid for im1 and im2   \n",
    "            im1_GP = transform.pyramid_gaussian(im1, downscale=2)\n",
    "            im1_GP = list(im1_GP)\n",
    "            print (len(im1_GP))\n",
    "            im1_GP = [a for a in im1_GP]\n",
    "            im2_GP = transform.pyramid_gaussian(im2, downscale=2)\n",
    "            im2_GP = [a for a in im2_GP]\n",
    "            ## Laplacian pyramid using transform moudle  \n",
    "            #im1_LP = transform.pyramid_laplacian(im1, downscale=2)\n",
    "            #im1_LP = [a for a in im1_LP]\n",
    "            #im2_LP = transform.pyramid_laplacian(im2, downscale=2)\n",
    "            #im2_LP = [a for a in im2_LP]\n",
    "            ## Laplacian pyramid using the equation of blending\n",
    "            im1_LP = Laplacian_pyramid(im1_GP)\n",
    "            im2_LP = Laplacian_pyramid(im2_GP)\n",
    "             \n",
    "            ## Gaussian pyramid for mask\n",
    "            mask_GP = tuple(transform.pyramid_gaussian(mask, downscale=2))\n",
    "            mask_GP = [a for a in mask_GP]\n",
    "            \n",
    "            ## Blending the two laplacian pyramid\n",
    "            Blend_pyramid = []\n",
    "            for i in range(0, len(mask_GP)):\n",
    "                Blend_pyramid.append(im1_LP[i]*mask_GP[i] + im2_LP[i]*(1 - mask_GP[i]))\n",
    "          \n",
    "            ## Colapsing the blending pyramid \n",
    "            blend_im = colapse_pyramid(Blend_pyramid)\n",
    "                \n",
    "        else:\n",
    "            print ('unknown method')\n",
    "            \n",
    "        \n",
    "    return blend_im"
   ]
  },
  {
   "cell_type": "code",
   "execution_count": 18,
   "metadata": {},
   "outputs": [
    {
     "ename": "NameError",
     "evalue": "name 'io' is not defined",
     "output_type": "error",
     "traceback": [
      "\u001b[1;31m---------------------------------------------------------------------------\u001b[0m",
      "\u001b[1;31mNameError\u001b[0m                                 Traceback (most recent call last)",
      "\u001b[1;32m<ipython-input-18-a5a253559cf1>\u001b[0m in \u001b[0;36m<module>\u001b[1;34m()\u001b[0m\n\u001b[1;32m----> 1\u001b[1;33m \u001b[0morange_im\u001b[0m \u001b[1;33m=\u001b[0m \u001b[0mio\u001b[0m\u001b[1;33m.\u001b[0m\u001b[0mimread\u001b[0m\u001b[1;33m(\u001b[0m\u001b[0mPath\u001b[0m\u001b[1;33m.\u001b[0m\u001b[0m__add__\u001b[0m\u001b[1;33m(\u001b[0m\u001b[1;34m'orange.jpeg'\u001b[0m\u001b[1;33m)\u001b[0m\u001b[1;33m)\u001b[0m\u001b[1;33m\u001b[0m\u001b[0m\n\u001b[0m\u001b[0;32m      2\u001b[0m \u001b[0mprint\u001b[0m\u001b[1;33m(\u001b[0m\u001b[0morange_im\u001b[0m\u001b[1;33m.\u001b[0m\u001b[0mdtype\u001b[0m\u001b[1;33m)\u001b[0m\u001b[1;33m\u001b[0m\u001b[0m\n\u001b[0;32m      3\u001b[0m \u001b[0mapple_im\u001b[0m \u001b[1;33m=\u001b[0m \u001b[0mio\u001b[0m\u001b[1;33m.\u001b[0m\u001b[0mimread\u001b[0m\u001b[1;33m(\u001b[0m\u001b[0mPath\u001b[0m\u001b[1;33m.\u001b[0m\u001b[0m__add__\u001b[0m\u001b[1;33m(\u001b[0m\u001b[1;34m'apple.jpeg'\u001b[0m\u001b[1;33m)\u001b[0m\u001b[1;33m)\u001b[0m\u001b[1;33m\u001b[0m\u001b[0m\n",
      "\u001b[1;31mNameError\u001b[0m: name 'io' is not defined"
     ]
    }
   ],
   "source": [
    "orange_im = io.imread(Path.__add__('orange.jpeg'))\n",
    "print(orange_im.dtype)\n",
    "apple_im = io.imread(Path.__add__('apple.jpeg'))"
   ]
  },
  {
   "cell_type": "code",
   "execution_count": 19,
   "metadata": {},
   "outputs": [
    {
     "ename": "NameError",
     "evalue": "name 'orange_im' is not defined",
     "output_type": "error",
     "traceback": [
      "\u001b[1;31m---------------------------------------------------------------------------\u001b[0m",
      "\u001b[1;31mNameError\u001b[0m                                 Traceback (most recent call last)",
      "\u001b[1;32m<ipython-input-19-8371e722efbd>\u001b[0m in \u001b[0;36m<module>\u001b[1;34m()\u001b[0m\n\u001b[1;32m----> 1\u001b[1;33m \u001b[0mblend_im1\u001b[0m \u001b[1;33m=\u001b[0m \u001b[0mImBlend\u001b[0m\u001b[1;33m(\u001b[0m\u001b[0morange_im\u001b[0m\u001b[1;33m,\u001b[0m \u001b[0mapple_im\u001b[0m\u001b[1;33m)\u001b[0m\u001b[1;33m\u001b[0m\u001b[0m\n\u001b[0m\u001b[0;32m      2\u001b[0m \u001b[0mblend_im2\u001b[0m \u001b[1;33m=\u001b[0m \u001b[0mImBlend\u001b[0m\u001b[1;33m(\u001b[0m\u001b[0morange_im\u001b[0m\u001b[1;33m,\u001b[0m \u001b[0mapple_im\u001b[0m\u001b[1;33m,\u001b[0m \u001b[0mmethod\u001b[0m \u001b[1;33m=\u001b[0m \u001b[1;34m'alpha'\u001b[0m\u001b[1;33m,\u001b[0m \u001b[0mwin\u001b[0m\u001b[1;33m=\u001b[0m\u001b[1;36m30\u001b[0m\u001b[1;33m)\u001b[0m\u001b[1;33m\u001b[0m\u001b[0m\n\u001b[0;32m      3\u001b[0m \u001b[0mblend_im3\u001b[0m \u001b[1;33m=\u001b[0m \u001b[0mImBlend\u001b[0m\u001b[1;33m(\u001b[0m\u001b[0morange_im\u001b[0m\u001b[1;33m,\u001b[0m \u001b[0mapple_im\u001b[0m\u001b[1;33m,\u001b[0m \u001b[0mmethod\u001b[0m \u001b[1;33m=\u001b[0m \u001b[1;34m'pyramid'\u001b[0m\u001b[1;33m)\u001b[0m\u001b[1;33m\u001b[0m\u001b[0m\n",
      "\u001b[1;31mNameError\u001b[0m: name 'orange_im' is not defined"
     ]
    }
   ],
   "source": [
    "blend_im1 = ImBlend(orange_im, apple_im)\n",
    "blend_im2 = ImBlend(orange_im, apple_im, method = 'alpha', win=30)\n",
    "blend_im3 = ImBlend(orange_im, apple_im, method = 'pyramid')"
   ]
  },
  {
   "cell_type": "code",
   "execution_count": 20,
   "metadata": {},
   "outputs": [
    {
     "ename": "NameError",
     "evalue": "name 'plt' is not defined",
     "output_type": "error",
     "traceback": [
      "\u001b[1;31m---------------------------------------------------------------------------\u001b[0m",
      "\u001b[1;31mNameError\u001b[0m                                 Traceback (most recent call last)",
      "\u001b[1;32m<ipython-input-20-985f31b31a68>\u001b[0m in \u001b[0;36m<module>\u001b[1;34m()\u001b[0m\n\u001b[1;32m----> 1\u001b[1;33m \u001b[0mplt\u001b[0m\u001b[1;33m.\u001b[0m\u001b[0mfigure\u001b[0m\u001b[1;33m\u001b[0m\u001b[0m\n\u001b[0m\u001b[0;32m      2\u001b[0m \u001b[0mplt\u001b[0m\u001b[1;33m.\u001b[0m\u001b[0mimshow\u001b[0m\u001b[1;33m(\u001b[0m\u001b[0mblend_im1\u001b[0m\u001b[1;33m,\u001b[0m \u001b[0mcmap\u001b[0m\u001b[1;33m=\u001b[0m\u001b[0mplt\u001b[0m\u001b[1;33m.\u001b[0m\u001b[0mcm\u001b[0m\u001b[1;33m.\u001b[0m\u001b[0mgray\u001b[0m\u001b[1;33m)\u001b[0m\u001b[1;33m\u001b[0m\u001b[0m\n\u001b[0;32m      3\u001b[0m \u001b[0mplt\u001b[0m\u001b[1;33m.\u001b[0m\u001b[0mshow\u001b[0m\u001b[1;33m(\u001b[0m\u001b[1;33m)\u001b[0m\u001b[1;33m\u001b[0m\u001b[0m\n\u001b[0;32m      4\u001b[0m \u001b[1;33m\u001b[0m\u001b[0m\n\u001b[0;32m      5\u001b[0m \u001b[0mplt\u001b[0m\u001b[1;33m.\u001b[0m\u001b[0mfigure\u001b[0m\u001b[1;33m\u001b[0m\u001b[0m\n",
      "\u001b[1;31mNameError\u001b[0m: name 'plt' is not defined"
     ]
    }
   ],
   "source": [
    "plt.figure\n",
    "plt.imshow(blend_im1, cmap=plt.cm.gray)\n",
    "plt.show()\n",
    "\n",
    "plt.figure\n",
    "plt.imshow(blend_im2, cmap=plt.cm.gray)\n",
    "plt.show()\n",
    "\n",
    "plt.figure\n",
    "plt.imshow(blend_im3, cmap=plt.cm.gray)\n",
    "plt.show()\n"
   ]
  },
  {
   "cell_type": "code",
   "execution_count": null,
   "metadata": {
    "collapsed": true
   },
   "outputs": [],
   "source": []
  },
  {
   "cell_type": "code",
   "execution_count": null,
   "metadata": {
    "collapsed": true
   },
   "outputs": [],
   "source": []
  },
  {
   "cell_type": "code",

   "execution_count": null,
   "metadata": {
    "collapsed": true
   },
   "outputs": [],
   "source": []
  },
  {
   "cell_type": "code",
   "execution_count": null,
   "metadata": {
    "collapsed": true
   },
   "outputs": [],
   "source": []
  },
  {
   "cell_type": "code",
   "execution_count": null,
   "metadata": {
    "collapsed": true
   },
   "outputs": [],
   "source": []
  }
 ],
 "metadata": {
  "kernelspec": {
   "display_name": "Python 3",
   "language": "python",
   "name": "python3"
  },
  "language_info": {
   "codemirror_mode": {
    "name": "ipython",
    "version": 3
   },
   "file_extension": ".py",
   "mimetype": "text/x-python",
   "name": "python",
   "nbconvert_exporter": "python",
   "pygments_lexer": "ipython3",
   "version": "3.6.2"
  }
 },
 "nbformat": 4,
 "nbformat_minor": 1
}
